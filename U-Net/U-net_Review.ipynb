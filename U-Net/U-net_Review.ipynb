{
 "cells": [
  {
   "cell_type": "markdown",
   "id": "afbc7877",
   "metadata": {
    "slideshow": {
     "slide_type": "slide"
    }
   },
   "source": [
    "<p style=\"font-size:40px ; color:orange ; line-height:1em\"> \n",
    "    U-Net : Convolutional Networks for Biomedical Image Segementation\n",
    "<p>"
   ]
  },
  {
   "cell_type": "markdown",
   "id": "a6194697",
   "metadata": {
    "slideshow": {
     "slide_type": "slide"
    }
   },
   "source": [
    "<p style=\"font-size:30px ; color:orange\"> \n",
    "    $\\quad$0. Abstract\n",
    "<p>\n",
    "<p style=\"font-size:19px\"> \n",
    "    $\\qquad$ - Annotated samples을 효과적으로 사용하기 위해 강한 data augmentation을 적용하는 training strategy를 제안<br>\n",
    "    <br>\n",
    "    $\\qquad$ - Architecture은 contracting path(context 정보를 얻음)와 expanding path(localization 정보를 얻음)로 구성<br>\n",
    "    <br>\n",
    "    $\\qquad$ - contracting path와 expanding path는 대칭적 구조<br>\n",
    "    <br>\n",
    "    $\\qquad$ - end-to-end 방식으로 적은 image을 사용하여 학습 가능하며, ISBI challenge에서 기존의 방식을 능가함<br>\n",
    "    <br>\n",
    "<p>"
   ]
  },
  {
   "cell_type": "markdown",
   "id": "1c81fd30",
   "metadata": {
    "slideshow": {
     "slide_type": "slide"
    }
   },
   "source": [
    "<p style=\"font-size:30px ; color:orange\"> \n",
    "    $\\quad$1. Instoduction\n",
    "<p>\n",
    "\n",
    "<p style=\"font-size:24px ; color:green\">\n",
    "   $\\quad$ Network architecture\n",
    "<p>\n",
    "    \n",
    "<img src=\"./figures/figure1.png\" width=\"600px\" height=\"400px\">\n",
    "<br>\n",
    "\n",
    "<p style=\"font-size:18px\">\n",
    "    $\\qquad$ - FCN을 기반으로 architecture을 수정하여 적은 image에서 잘 작동하고, 정밀한 segmentation을 얻을 수 있다<br>\n",
    "    <br>\n",
    "    $\\qquad$ - Localize를 하기 위해서 contracting path의 high resolution feature를 upsampling에 결합<br>\n",
    "    <br>\n",
    "    $\\qquad$ - Upsampling part에서 많은 feature channels을 사용하여 context information을 high resolution layers로 전파가 가능하게 함<br>\n",
    "    <br>\n",
    "    $\\qquad$ - 따라서, expanding path는 contracting path와 더 많거나 적게 대칭적이며, U자 모양의 구조를 생성한다\n",
    "<p>"
   ]
  },
  {
   "cell_type": "markdown",
   "id": "a568b994",
   "metadata": {
    "slideshow": {
     "slide_type": "slide"
    }
   },
   "source": [
    "<img src=\"./figures/figure2.png\" width=\"600px\" height=\"400px\">\n",
    "<br>\n",
    "\n",
    "<p style=\"font-size:19px\"> \n",
    "    $\\qquad$ - Network는 fully connected layer를 가지지 않고 각 convolution의 valid part만 사용한다<br>\n",
    "    <br>\n",
    "    $\\qquad$ - valid part란, full context가 들어있는 segmentagion map<br>\n",
    "    <br>\n",
    "    $\\qquad$ - 이러한 방법은 overlap-tile을 사용하여 원활한 segementation을 가능하게 함<br>\n",
    "    <br>\n",
    "<p>"
   ]
  },
  {
   "cell_type": "markdown",
   "id": "c3badb98",
   "metadata": {
    "slideshow": {
     "slide_type": "slide"
    }
   },
   "source": [
    "<p style=\"font-size:24px ; color:green\">\n",
    "   $\\quad$ Overlap-tile strategy \n",
    "<p>\n",
    "<br>\n",
    "<img src=\"./figures/overlap_tile.png\" width=\"600px\" height=\"400px\">\n",
    "    \n",
    "<p style=\"font-size:24px ; color:green\">\n",
    "   $\\quad$ Mirroring extrapolation\n",
    "<p>\n",
    "<br>\n",
    "<img src=\"./figures/mirroring.png\" width=\"600px\" height=\"400px\">"
   ]
  },
  {
   "cell_type": "markdown",
   "id": "45798ea1",
   "metadata": {
    "slideshow": {
     "slide_type": "slide"
    }
   },
   "source": [
    "<p style=\"font-size:24px ; color:green\">\n",
    "   $\\quad$ Data augmentation\n",
    "<p>\n",
    "\n",
    "<p style=\"font-size:20px ; color:brown\">\n",
    "    $\\qquad$ 1. Elastic deformations\n",
    "<p>\n",
    "<img src=\"./figures/elastic_deformation.png\" width=\"500px\" height=\"400px\">\n",
    "<br>\n",
    "<p style=\"font-size:18px\">\n",
    "    $\\qquad$$\\qquad$ - 탄성에 따른 불변성을 학습하기 위해 사용<br>\n",
    "    <br>\n",
    "    $\\qquad$$\\qquad$ - 적은 양의 이미지를 가지고 효과적으로 학습하기 위함<br>\n",
    "    <br>\n",
    "<p>\n",
    "\n"
   ]
  },
  {
   "cell_type": "markdown",
   "id": "ddaeeba7",
   "metadata": {
    "slideshow": {
     "slide_type": "slide"
    }
   },
   "source": [
    "<p style=\"font-size:20px ; color:brown\">\n",
    "    $\\qquad$ 2. Weighted loss\n",
    "<p>\n",
    "<img src=\"./figures/figure3.png\" width=\"500px\" height=\"400px\">\n",
    "<br>\n",
    "<p style=\"font-size:18px\">\n",
    "    $\\qquad$$\\qquad$ - Touching cell들 사이에 존재하는 background label을 분리하기 위해 사용<br>\n",
    "    <br>\n",
    "<p>\n",
    "\n",
    "\n"
   ]
  },
  {
   "cell_type": "markdown",
   "id": "7cb31d22",
   "metadata": {
    "slideshow": {
     "slide_type": "slide"
    }
   },
   "source": [
    "<p style=\"font-size:30px ; color:orange\"> \n",
    "    $\\quad$2. Network Architecture\n",
    "<p>\n",
    "    \n",
    "<p style=\"font-size:24px ; color:green\">\n",
    "   $\\qquad$ (1) Contracting path\n",
    "<p>\n",
    "    \n",
    "<p style=\"font-size:18px\">\n",
    "    $\\qquad$$\\qquad$ - 두 번의 $3 \\times 3$ unpadded convolutional을 진행, ReLU 사용<br>\n",
    "    <br>\n",
    "    $\\qquad$$\\qquad$ - Downsampling은 $2 \\times 2$ max pooling을 통하여 진행(stride 2)<br>\n",
    "    <br>\n",
    "    $\\qquad$$\\qquad$ - Downsampling을 진행할 때마다, feature channels의 수는 두 배가 됨<br>\n",
    "    <br>\n",
    "<p>\n",
    "    \n",
    "<p style=\"font-size:24px ; color:green\">\n",
    "   $\\qquad$ (2) Expanding path\n",
    "<p>\n",
    "    \n",
    "<p style=\"font-size:18px\">\n",
    "    $\\qquad$$\\qquad$ - $2 \\times 2$ up-convolution을 통해 upsampling을 진행<br>\n",
    "    <br>\n",
    "    $\\qquad$$\\qquad$ - 두 번의 $3 \\times 3$ unpadded convolutional을 진행, ReLU 사용<br>\n",
    "    <br>\n",
    "    $\\qquad$$\\qquad$ - Convolution을 진행하면서 feature channels의 수는 절반으로 감소<br>\n",
    "    <br>\n",
    "<p>\n",
    "    \n",
    "<p style=\"font-size:24px ; color:green\">\n",
    "   $\\qquad$ (3) Skip architecture\n",
    "<p>\n",
    "    \n",
    "<p style=\"font-size:18px\">\n",
    "    $\\qquad$$\\qquad$ - Contracting path의 feature map을 crop하여 Expanding path의 up-conv된 feature map에 결합<br>\n",
    "    <br>\n",
    "    $\\qquad$$\\qquad$ - Border pixel에 대한 정보를 보정하기 위함<br>\n",
    "    <br>\n",
    "<p>\n",
    "\n",
    "<p style=\"font-size:24px ; color:green\">\n",
    "    $\\qquad$ (4) $1 \\times 1$ convolutional layer\n",
    "<p>\n",
    "    \n",
    "<p style=\"font-size:18px\">\n",
    "    $\\qquad$$\\qquad$ - 64개의 feature vector을 desired number of classes에 mapping하기 위함<br>\n",
    "    <br>\n",
    "<p>"
   ]
  },
  {
   "cell_type": "markdown",
   "id": "ec18221e",
   "metadata": {
    "slideshow": {
     "slide_type": "slide"
    }
   },
   "source": [
    "<p style=\"font-size:30px ; color:orange\">\n",
    "   $\\quad$3. Training \n",
    "<p>\n",
    "<p style=\"font-size:18px\">\n",
    "    $\\qquad$ - Input image와 segmentation map은 SGD와 함께 network에 학습에 사용<br>\n",
    "    <br>\n",
    "    $\\qquad$ - momentum은 0.99를 사용하여 이전에 학습했던 training sample이 현재 optimization step의 update에 관여<br>\n",
    "    <br>\n",
    "<p>\n",
    "<p style=\"font-size:24px ; color:green ; height:1.8em\">\n",
    "    $\\quad$ Energy function\n",
    "<p>\n",
    "    \n",
    "<p style=\"font-size:18px\">\n",
    "    $\\qquad$ - pixel-wise soft-max, final feature map, cross entropy loss를 결합하여 사용<br>\n",
    "    <br>\n",
    "    $\\qquad$ - $E = \\sum_{x \\in \\Omega} w({\\bf x}) \\log(p_{\\ell(\\bf{x})}(\\bf{x}))$ : cross entropy loss<br>\n",
    "    <br>\n",
    "    $\\qquad$ - $p_{k}({\\bf x}) = \\exp(a_{k}({\\bf x}))$ / $\\left( \\sum_{k'=1}^{K} \\exp(a_{k'}({\\bf x})) \\right)$ : x가 class k일 확률 (soft-max)<br>\n",
    "<p>"
   ]
  },
  {
   "cell_type": "markdown",
   "id": "29282fe1",
   "metadata": {
    "slideshow": {
     "slide_type": "slide"
    }
   },
   "source": [
    "<p style=\"font-size:24px ; color:green ; height:1.8em\">\n",
    "    $\\quad$ Weight map\n",
    "<p>\n",
    "\n",
    "<p style=\"font-size:18px\">    \n",
    "    $\\qquad$ - 학습 데이터의 특정 class에서 pixel에 다른 frequency를 보상하고, network가 small separation border을 학습하기 위해 ground truth segmentation의 weight map을 사전에 계산<br>\n",
    "    <br>\n",
    "    $\\qquad$ - Separation border은 morphological operation을 통해 계산됨<br>\n",
    "    <br>\n",
    "    $\\qquad$ - $w({\\bf x}) = w_{c}({\\bf x}) + w_{0} \\cdot \\exp \\left( -\\frac{(d_{1}({\\bf x}) + d_{2}({\\bf x}))^2}{2\\sigma^2} \\right)$<br>\n",
    "    <br>\n",
    "    $\\qquad$ - $d_{1}$ : x와 가장 가까운 경계의 거리<br>\n",
    "    $\\qquad$ - $d_{2}$ : x와 두 번째로 가까운 경계의 거리<br>\n",
    "<p>"
   ]
  },
  {
   "cell_type": "markdown",
   "id": "0e75cd7d",
   "metadata": {
    "slideshow": {
     "slide_type": "slide"
    }
   },
   "source": [
    "<p style=\"font-size:27px ; color:orange\">\n",
    "   $\\quad$3.1 Data Augmentation\n",
    "<p>\n",
    "    \n",
    "<p style=\"font-size:18px\">\n",
    "    $\\qquad$ - 학습 데이터가 적을 때 Network가 noise에 대해 불변성을 학습하기 위해 필수적<br>\n",
    "    <br>\n",
    "    $\\qquad$ - shift, rotation된 이미지에 대해 불변성이 주로 요구됨<br>\n",
    "    <br>\n",
    "<p>"
   ]
  },
  {
   "cell_type": "markdown",
   "id": "d3dae54d",
   "metadata": {
    "slideshow": {
     "slide_type": "slide"
    }
   },
   "source": [
    "<p style=\"font-size:30px ; color:orange\">\n",
    "    $\\quad$4. Experiments\n",
    "<p>\n",
    "\n",
    "<p style=\"font-size:24px ; color:green\">\n",
    "    $\\quad$ EM segmentation challenge data<br>\n",
    "    <br>\n",
    "<p>\n",
    "\n",
    "<img src=\"./figures/table1.png\" width=600px height=400px>\n",
    "    \n",
    "<p style=\"font-size:18px\">\n",
    "    $\\qquad$ - 30개의 training set, 각 data는 image와 객체와 배경이 구분된 ground truth segmentagion map을 포함하고 있음<br>\n",
    "    <br>\n",
    "    $\\qquad$ - Warping error, Rand error, pixel error로 평가<br>\n",
    "    <br>\n",
    "    $\\qquad$ - Warping error를 기준으로 가장 좋은 성능을 보임<br>\n",
    "<p>\n",
    "\n"
   ]
  },
  {
   "cell_type": "markdown",
   "id": "c7cc4061",
   "metadata": {
    "slideshow": {
     "slide_type": "slide"
    }
   },
   "source": [
    "<p style=\"font-size:24px ; color:green\">\n",
    "    $\\quad$ ISBI cell tracking challenge data<br>\n",
    "    <br>\n",
    "<p>\n",
    "\n",
    "<img src=\"./figures/figure4.png\" width=600px height=400px align=\"center\">\n",
    "    \n",
    "<img src=\"./figures/table2.png\" width=600px height=400px align=\"center\">\n",
    "    \n",
    "<p style=\"font-size:18px\">\n",
    "    $\\qquad$ - PhC-U373 data와 DIC-HeLa data로 구성<br>\n",
    "    <br>\n",
    "    $\\qquad$ - 두 가지 data set에 대하여 가장 좋은 결과를 보임<br>\n",
    "    <br>\n",
    "<p>\n",
    "\n",
    "\n"
   ]
  },
  {
   "cell_type": "markdown",
   "id": "77e9ea8b",
   "metadata": {
    "slideshow": {
     "slide_type": "slide"
    }
   },
   "source": [
    "<p style=\"font-size:30px ; color:orange\">\n",
    "    $\\quad$5. Conclusion\n",
    "<p>\n",
    "\n",
    "<p style=\"font-size:18px\">\n",
    "    $\\qquad$ - U-Net이 biomedical segmentation applications에서 좋은 결과를 보임<br>\n",
    "    <br>\n",
    "    $\\qquad$ - 아주 작은 data set으로 학습하기 때문에 적은 시간이 걸림\n",
    "<p>\n",
    "\n"
   ]
  }
 ],
 "metadata": {
  "celltoolbar": "Slideshow",
  "kernelspec": {
   "display_name": "Python 3",
   "language": "python",
   "name": "python3"
  },
  "language_info": {
   "codemirror_mode": {
    "name": "ipython",
    "version": 3
   },
   "file_extension": ".py",
   "mimetype": "text/x-python",
   "name": "python",
   "nbconvert_exporter": "python",
   "pygments_lexer": "ipython3",
   "version": "3.8.8"
  }
 },
 "nbformat": 4,
 "nbformat_minor": 5
}
